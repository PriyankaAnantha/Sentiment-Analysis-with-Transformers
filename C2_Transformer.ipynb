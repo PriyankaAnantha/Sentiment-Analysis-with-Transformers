{
  "cells": [
    {
      "cell_type": "markdown",
      "metadata": {
        "id": "WM07wAVc3O0-"
      },
      "source": [
        "# Text classification with Transformer\n",
        "\n",
        "**Author:** [Apoorv Nandan](https://twitter.com/NandanApoorv), modified by Priyanka A<br>\n",
        "**Date created:** 2020/05/10<br>\n",
        "**Last modified:** 2024/11/29<br>\n",
        "**Original Description:** Implement a Transformer block as a Keras layer and use it for text classification.\n",
        "\n",
        "**Modified version:** Modified the code such that the TansformerBlock contains two encoder blocks stacked for performing classication."
      ]
    },
    {
      "cell_type": "markdown",
      "metadata": {
        "id": "G7kDC_jW3O1B"
      },
      "source": [
        "## Setup"
      ]
    },
    {
      "cell_type": "code",
      "execution_count": 1,
      "metadata": {
        "id": "rtZffXT93O1E"
      },
      "outputs": [],
      "source": [
        "import keras\n",
        "from keras import ops\n",
        "from keras import layers\n",
        "from sklearn.metrics import confusion_matrix, precision_score, recall_score, f1_score\n",
        "import matplotlib.pyplot as plt\n",
        "import seaborn as sns\n"
      ]
    },
    {
      "cell_type": "markdown",
      "metadata": {
        "id": "I8xIskge3O1H"
      },
      "source": [
        "## Implement a Transformer block as a layer"
      ]
    },
    {
      "cell_type": "code",
      "execution_count": 2,
      "metadata": {
        "id": "HapiPKpi3O1I"
      },
      "outputs": [],
      "source": [
        "class TransformerBlock(layers.Layer):\n",
        "    \"\"\"\n",
        "    A Transformer block that includes multi-head self-attention and feed-forward layers.\n",
        "\n",
        "    Args:\n",
        "    - embed_dim (int): The dimensionality of the input embedding.\n",
        "    - num_heads (int): The number of attention heads in the multi-head attention layer.\n",
        "    - ff_dim (int): The dimensionality of the feed-forward network.\n",
        "    - rate (float): Dropout rate (default is 0.1).\n",
        "    \"\"\"\n",
        "    def __init__(self, embed_dim, num_heads, ff_dim, rate=0.1):\n",
        "        super().__init__()\n",
        "        self.att = layers.MultiHeadAttention(num_heads=num_heads, key_dim=embed_dim)\n",
        "        self.ffn = keras.Sequential([\n",
        "            layers.Dense(ff_dim, activation=\"relu\"),\n",
        "            layers.Dense(embed_dim)\n",
        "        ])\n",
        "        self.layernorm1 = layers.LayerNormalization(epsilon=1e-6)\n",
        "        self.layernorm2 = layers.LayerNormalization(epsilon=1e-6)\n",
        "        self.dropout1 = layers.Dropout(rate)\n",
        "        self.dropout2 = layers.Dropout(rate)\n",
        "\n",
        "    def call(self, inputs, training):\n",
        "        \"\"\"\n",
        "        Forward pass of the Transformer block.\n",
        "\n",
        "        Args:\n",
        "        - inputs (tensor): Input tensor to the Transformer block.\n",
        "        - training (bool): Flag indicating whether the model is in training mode.\n",
        "\n",
        "        Returns:\n",
        "        - tensor: Output tensor after applying multi-head attention, feed-forward layers, and normalization.\n",
        "        \"\"\"\n",
        "        attn_output = self.att(inputs, inputs)  # Self-attention layer\n",
        "        attn_output = self.dropout1(attn_output, training=training)\n",
        "        out1 = self.layernorm1(inputs + attn_output)  # Add & normalize\n",
        "        ffn_output = self.ffn(out1)\n",
        "        ffn_output = self.dropout2(ffn_output, training=training)\n",
        "        return self.layernorm2(out1 + ffn_output)"
      ]
    },
    {
      "cell_type": "markdown",
      "metadata": {
        "id": "FK-piESS3O1J"
      },
      "source": [
        "## Implement embedding layer\n",
        "\n",
        "Two  embedding layers, one for tokens, one for token index (positions)."
      ]
    },
    {
      "cell_type": "code",
      "execution_count": 3,
      "metadata": {
        "id": "HABzXrVL3O1L"
      },
      "outputs": [],
      "source": [
        "class TokenAndPositionEmbedding(layers.Layer):\n",
        "    \"\"\"\n",
        "    Token and Position Embedding layer that combines token embeddings with position embeddings.\n",
        "\n",
        "    Args:\n",
        "    - maxlen (int): Maximum sequence length.\n",
        "    - vocab_size (int): Vocabulary size.\n",
        "    - embed_dim (int): Dimensionality of the embedding.\n",
        "    \"\"\"\n",
        "    def __init__(self, maxlen, vocab_size, embed_dim):\n",
        "        super().__init__()\n",
        "        self.token_emb = layers.Embedding(input_dim=vocab_size, output_dim=embed_dim)\n",
        "        self.pos_emb = layers.Embedding(input_dim=maxlen, output_dim=embed_dim)\n",
        "\n",
        "    def call(self, x):\n",
        "        \"\"\"\n",
        "        Add token and position embeddings to the input tensor.\n",
        "\n",
        "        Args:\n",
        "        - x (tensor): Input tensor to be embedded.\n",
        "\n",
        "        Returns:\n",
        "        - tensor: Tensor after adding position embeddings to token embeddings.\n",
        "        \"\"\"\n",
        "        maxlen = ops.shape(x)[-1]\n",
        "        positions = ops.arange(start=0, stop=maxlen, step=1)\n",
        "        positions = self.pos_emb(positions)\n",
        "        x = self.token_emb(x)\n",
        "        return x + positions"
      ]
    },
    {
      "cell_type": "markdown",
      "metadata": {
        "id": "WV_0dzkO3O1N"
      },
      "source": [
        "## Download and prepare dataset"
      ]
    },
    {
      "cell_type": "code",
      "execution_count": 4,
      "metadata": {
        "id": "fqveJze43O1O"
      },
      "outputs": [],
      "source": [
        "def load_and_prepare_data(vocab_size=20000, maxlen=200):\n",
        "    \"\"\"\n",
        "    Loads and prepares the IMDB dataset for training.\n",
        "\n",
        "    Args:\n",
        "    - vocab_size (int): The number of words to consider in the vocabulary.\n",
        "    - maxlen (int): Maximum number of words in a review.\n",
        "\n",
        "    Returns:\n",
        "    - tuple: Training and validation data (x_train, y_train), (x_val, y_val).\n",
        "    \"\"\"\n",
        "    (x_train, y_train), (x_val, y_val) = keras.datasets.imdb.load_data(num_words=vocab_size)\n",
        "    x_train = keras.utils.pad_sequences(x_train, maxlen=maxlen)\n",
        "    x_val = keras.utils.pad_sequences(x_val, maxlen=maxlen)\n",
        "    return (x_train, y_train), (x_val, y_val)\n",
        "\n",
        "(x_train, y_train), (x_val, y_val) = load_and_prepare_data()\n"
      ]
    },
    {
      "cell_type": "markdown",
      "metadata": {
        "id": "Wrpt-kk73O1Q"
      },
      "source": [
        "## Create classifier model using transformer layer\n",
        "\n"
      ]
    },
    {
      "cell_type": "code",
      "execution_count": 5,
      "metadata": {
        "id": "iGmScGlv3O1R"
      },
      "outputs": [],
      "source": [
        "# Build the Transformer model with two stacked Transformer blocks\n",
        "def build_transformer_model(embed_dim=32, num_heads=2, ff_dim=32, maxlen=200, vocab_size=20000):\n",
        "    \"\"\"\n",
        "    Builds a text classification model using stacked Transformer blocks.\n",
        "\n",
        "    Args:\n",
        "    - embed_dim (int): Embedding dimension for each token.\n",
        "    - num_heads (int): Number of attention heads.\n",
        "    - ff_dim (int): Feed-forward layer size.\n",
        "    - maxlen (int): Maximum sequence length.\n",
        "    - vocab_size (int): Vocabulary size.\n",
        "\n",
        "    Returns:\n",
        "    - model: Compiled Keras model.\n",
        "    \"\"\"\n",
        "    inputs = layers.Input(shape=(maxlen,))\n",
        "    embedding_layer = TokenAndPositionEmbedding(maxlen, vocab_size, embed_dim)\n",
        "    x = embedding_layer(inputs)\n",
        "\n",
        "    # First Transformer block\n",
        "    transformer_block1 = TransformerBlock(embed_dim, num_heads, ff_dim)\n",
        "    x = transformer_block1(x, training=True)\n",
        "\n",
        "    # Second Transformer block\n",
        "    transformer_block2 = TransformerBlock(embed_dim, num_heads, ff_dim)\n",
        "    x = transformer_block2(x, training=True)\n",
        "\n",
        "    # Final layers for classification\n",
        "    x = layers.GlobalAveragePooling1D()(x)\n",
        "    x = layers.Dropout(0.1)(x)\n",
        "    x = layers.Dense(20, activation=\"relu\")(x)\n",
        "    x = layers.Dropout(0.1)(x)\n",
        "    outputs = layers.Dense(2, activation=\"softmax\")(x)\n",
        "\n",
        "    model = keras.Model(inputs=inputs, outputs=outputs)\n",
        "    model.compile(optimizer=\"adam\", loss=\"sparse_categorical_crossentropy\", metrics=[\"accuracy\"])\n",
        "\n",
        "    return model\n",
        "\n",
        "model = build_transformer_model()"
      ]
    },
    {
      "cell_type": "markdown",
      "metadata": {
        "id": "e7X1wF4e3O1S"
      },
      "source": [
        "## Train and Evaluate"
      ]
    },
    {
      "cell_type": "code",
      "execution_count": 6,
      "metadata": {
        "id": "QMSqyMOM3O1T",
        "colab": {
          "base_uri": "https://localhost:8080/"
        },
        "outputId": "88b4ae1a-70c2-4c3a-cc46-bf3a9245654b"
      },
      "outputs": [
        {
          "output_type": "stream",
          "name": "stdout",
          "text": [
            "Epoch 1/2\n",
            "\u001b[1m782/782\u001b[0m \u001b[32m━━━━━━━━━━━━━━━━━━━━\u001b[0m\u001b[37m\u001b[0m \u001b[1m39s\u001b[0m 31ms/step - accuracy: 0.7182 - loss: 0.5070 - val_accuracy: 0.8688 - val_loss: 0.2994\n",
            "Epoch 2/2\n",
            "\u001b[1m782/782\u001b[0m \u001b[32m━━━━━━━━━━━━━━━━━━━━\u001b[0m\u001b[37m\u001b[0m \u001b[1m16s\u001b[0m 9ms/step - accuracy: 0.9377 - loss: 0.1713 - val_accuracy: 0.8710 - val_loss: 0.3296\n"
          ]
        },
        {
          "output_type": "execute_result",
          "data": {
            "text/plain": [
              "<keras.src.callbacks.history.History at 0x7f6196fd0fd0>"
            ]
          },
          "metadata": {},
          "execution_count": 6
        }
      ],
      "source": [
        "# Train the model\n",
        "def train_model(model, x_train, y_train, x_val, y_val, epochs=2, batch_size=32):\n",
        "    \"\"\"\n",
        "    Compiles and trains the Transformer model.\n",
        "\n",
        "    Args:\n",
        "    - model (Keras Model): The model to be trained.\n",
        "    - x_train (ndarray): Training data.\n",
        "    - y_train (ndarray): Training labels.\n",
        "    - x_val (ndarray): Validation data.\n",
        "    - y_val (ndarray): Validation labels.\n",
        "    - epochs (int): Number of epochs to train the model.\n",
        "    - batch_size (int): Batch size.\n",
        "\n",
        "    Returns:\n",
        "    - history: Training history object.\n",
        "    \"\"\"\n",
        "    history = model.fit(x_train, y_train, batch_size=batch_size, epochs=epochs, validation_data=(x_val, y_val))\n",
        "    return history\n",
        "\n",
        "train_model(model, x_train, y_train, x_val, y_val)\n"
      ]
    },
    {
      "cell_type": "code",
      "source": [
        "\n",
        "# Evaluate model and plot metrics\n",
        "def evaluate_model(model, x_val, y_val):\n",
        "    \"\"\"\n",
        "    Evaluates the model on the validation set and plots metrics.\n",
        "\n",
        "    Args:\n",
        "    - model (Keras Model): The trained model.\n",
        "    - x_val (ndarray): Validation data.\n",
        "    - y_val (ndarray): Validation labels.\n",
        "    \"\"\"\n",
        "    y_pred = model.predict(x_val)\n",
        "    y_pred = y_pred.argmax(axis=1)  # Convert predictions to class labels\n",
        "\n",
        "    # Generate confusion matrix\n",
        "    cm = confusion_matrix(y_val, y_pred)\n",
        "\n",
        "    # Plot confusion matrix\n",
        "    plt.figure(figsize=(10, 9))\n",
        "    sns.heatmap(cm, annot=True, fmt=\"d\", cmap=\"Reds\", xticklabels=[\"Negative\", \"Positive\"], yticklabels=[\"Negative\", \"Positive\"])\n",
        "    plt.xlabel('Predicted', fontsize=16, fontweight='bold')\n",
        "    plt.ylabel('Actual', fontsize=16, fontweight='bold')\n",
        "    plt.title('Confusion Matrix', fontsize=18, fontweight='bold')\n",
        "    plt.show()\n",
        "\n",
        "    # Calculate precision, recall, and F1-score\n",
        "    precision = precision_score(y_val, y_pred)\n",
        "    recall = recall_score(y_val, y_pred)\n",
        "    f1 = f1_score(y_val, y_pred)\n",
        "\n",
        "    print(f\"Precision: {precision:.4f}\")\n",
        "    print(f\"Recall: {recall:.4f}\")\n",
        "    print(f\"F1-Score: {f1:.4f}\")\n",
        "\n",
        "evaluate_model(model, x_val, y_val)\n"
      ],
      "metadata": {
        "colab": {
          "base_uri": "https://localhost:8080/",
          "height": 875
        },
        "id": "ixal8jYw1yEe",
        "outputId": "25403496-2687-4164-e8ed-18d2f8847e02"
      },
      "execution_count": 7,
      "outputs": [
        {
          "output_type": "stream",
          "name": "stdout",
          "text": [
            "\u001b[1m782/782\u001b[0m \u001b[32m━━━━━━━━━━━━━━━━━━━━\u001b[0m\u001b[37m\u001b[0m \u001b[1m5s\u001b[0m 4ms/step\n"
          ]
        },
        {
          "output_type": "display_data",
          "data": {
            "text/plain": [
              "<Figure size 1000x900 with 2 Axes>"
            ],
            "image/png": "[encoded data removed]"
          },
          "metadata": {}
        },
        {
          "output_type": "stream",
          "name": "stdout",
          "text": [
            "Precision: 0.8597\n",
            "Recall: 0.8868\n",
            "F1-Score: 0.8730\n"
          ]
        }
      ]
    }
  ],
  "metadata": {
    "accelerator": "GPU",
    "colab": {
      "provenance": []
    },
    "kernelspec": {
      "display_name": "Python 3",
      "language": "python",
      "name": "python3"
    },
    "language_info": {
      "codemirror_mode": {
        "name": "ipython",
        "version": 3
      },
      "file_extension": ".py",
      "mimetype": "text/x-python",
      "name": "python",
      "nbconvert_exporter": "python",
      "pygments_lexer": "ipython3",
      "version": "3.8.11"
    }
  },
  "nbformat": 4,
  "nbformat_minor": 0
}